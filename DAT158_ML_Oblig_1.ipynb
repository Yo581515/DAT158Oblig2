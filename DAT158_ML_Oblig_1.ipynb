{
 "cells": [
  {
   "cell_type": "markdown",
   "id": "5f1fe30f",
   "metadata": {},
   "source": [
    "# Importing libraries "
   ]
  },
  {
   "cell_type": "code",
   "execution_count": 38,
   "id": "7cede37c",
   "metadata": {
    "ExecuteTime": {
     "end_time": "2023-09-29T02:28:43.695272800Z",
     "start_time": "2023-09-29T02:28:43.647102Z"
    }
   },
   "outputs": [],
   "source": [
    "# This is a quick check of whether the notebook is currently running on Google Colaboratory\n",
    "# or on Kaggle, as that makes some difference for the code below.\n",
    "# We'll do this in every notebook of the course.\n",
    "try:\n",
    "    import google.colab\n",
    "    colab=True\n",
    "except:\n",
    "    colab=False\n",
    "\n",
    "import os\n",
    "kaggle = os.environ.get('KAGGLE_KERNEL_RUN_TYPE', '')"
   ]
  },
  {
   "cell_type": "code",
   "execution_count": 39,
   "id": "ee3ef35b",
   "metadata": {
    "ExecuteTime": {
     "end_time": "2023-09-29T02:28:44.002311200Z",
     "start_time": "2023-09-29T02:28:43.653551800Z"
    }
   },
   "outputs": [],
   "source": [
    "import numpy as np\n",
    "import pandas as pd\n",
    "import matplotlib.pyplot as plt"
   ]
  },
  {
   "cell_type": "markdown",
   "id": "4cc2dda1",
   "metadata": {
    "ExecuteTime": {
     "end_time": "2023-09-22T12:39:13.580554300Z",
     "start_time": "2023-09-22T12:39:13.562241600Z"
    }
   },
   "source": [
    "# Loading data"
   ]
  },
  {
   "cell_type": "code",
   "execution_count": 40,
   "id": "d083bd17",
   "metadata": {
    "ExecuteTime": {
     "end_time": "2023-09-29T02:28:44.034290800Z",
     "start_time": "2023-09-29T02:28:43.695272800Z"
    }
   },
   "outputs": [
    {
     "data": {
      "text/plain": "      id       vdate  rcount gender  dialysisrenalendstage  asthma  irondef  \\\n0  76513  2012-07-05       4      M                  False   False    False   \n1  60406  2012-02-26       1      M                  False   False    False   \n2  27322  2012-11-19       1      F                  False   False    False   \n3  53699  2012-01-30       0      F                  False   False    False   \n\n   pneum  substancedependence  psychologicaldisordermajor  ...      sodium  \\\n0  False                False                        True  ...  137.150067   \n1  False                False                       False  ...  140.643655   \n2  False                False                       False  ...  138.459305   \n3  False                False                       False  ...  138.667613   \n\n      glucose  bloodureanitro  creatinine        bmi  pulse  respiration  \\\n0  148.420532            23.0    0.955051  28.450268     63          6.7   \n1  166.718526             9.0    1.385747  29.233048     81          6.5   \n2  106.468142            12.0    0.816984  34.295535     75          6.5   \n3  144.311236            12.0    1.082725  31.207914     75          6.5   \n\n   secondarydiagnosisnonicd9  facid  lengthofstay  \n0                          1      E             7  \n1                          0      B             3  \n2                          1      B             5  \n3                          1      B             2  \n\n[4 rows x 27 columns]",
      "text/html": "<div>\n<style scoped>\n    .dataframe tbody tr th:only-of-type {\n        vertical-align: middle;\n    }\n\n    .dataframe tbody tr th {\n        vertical-align: top;\n    }\n\n    .dataframe thead th {\n        text-align: right;\n    }\n</style>\n<table border=\"1\" class=\"dataframe\">\n  <thead>\n    <tr style=\"text-align: right;\">\n      <th></th>\n      <th>id</th>\n      <th>vdate</th>\n      <th>rcount</th>\n      <th>gender</th>\n      <th>dialysisrenalendstage</th>\n      <th>asthma</th>\n      <th>irondef</th>\n      <th>pneum</th>\n      <th>substancedependence</th>\n      <th>psychologicaldisordermajor</th>\n      <th>...</th>\n      <th>sodium</th>\n      <th>glucose</th>\n      <th>bloodureanitro</th>\n      <th>creatinine</th>\n      <th>bmi</th>\n      <th>pulse</th>\n      <th>respiration</th>\n      <th>secondarydiagnosisnonicd9</th>\n      <th>facid</th>\n      <th>lengthofstay</th>\n    </tr>\n  </thead>\n  <tbody>\n    <tr>\n      <th>0</th>\n      <td>76513</td>\n      <td>2012-07-05</td>\n      <td>4</td>\n      <td>M</td>\n      <td>False</td>\n      <td>False</td>\n      <td>False</td>\n      <td>False</td>\n      <td>False</td>\n      <td>True</td>\n      <td>...</td>\n      <td>137.150067</td>\n      <td>148.420532</td>\n      <td>23.0</td>\n      <td>0.955051</td>\n      <td>28.450268</td>\n      <td>63</td>\n      <td>6.7</td>\n      <td>1</td>\n      <td>E</td>\n      <td>7</td>\n    </tr>\n    <tr>\n      <th>1</th>\n      <td>60406</td>\n      <td>2012-02-26</td>\n      <td>1</td>\n      <td>M</td>\n      <td>False</td>\n      <td>False</td>\n      <td>False</td>\n      <td>False</td>\n      <td>False</td>\n      <td>False</td>\n      <td>...</td>\n      <td>140.643655</td>\n      <td>166.718526</td>\n      <td>9.0</td>\n      <td>1.385747</td>\n      <td>29.233048</td>\n      <td>81</td>\n      <td>6.5</td>\n      <td>0</td>\n      <td>B</td>\n      <td>3</td>\n    </tr>\n    <tr>\n      <th>2</th>\n      <td>27322</td>\n      <td>2012-11-19</td>\n      <td>1</td>\n      <td>F</td>\n      <td>False</td>\n      <td>False</td>\n      <td>False</td>\n      <td>False</td>\n      <td>False</td>\n      <td>False</td>\n      <td>...</td>\n      <td>138.459305</td>\n      <td>106.468142</td>\n      <td>12.0</td>\n      <td>0.816984</td>\n      <td>34.295535</td>\n      <td>75</td>\n      <td>6.5</td>\n      <td>1</td>\n      <td>B</td>\n      <td>5</td>\n    </tr>\n    <tr>\n      <th>3</th>\n      <td>53699</td>\n      <td>2012-01-30</td>\n      <td>0</td>\n      <td>F</td>\n      <td>False</td>\n      <td>False</td>\n      <td>False</td>\n      <td>False</td>\n      <td>False</td>\n      <td>False</td>\n      <td>...</td>\n      <td>138.667613</td>\n      <td>144.311236</td>\n      <td>12.0</td>\n      <td>1.082725</td>\n      <td>31.207914</td>\n      <td>75</td>\n      <td>6.5</td>\n      <td>1</td>\n      <td>B</td>\n      <td>2</td>\n    </tr>\n  </tbody>\n</table>\n<p>4 rows × 27 columns</p>\n</div>"
     },
     "execution_count": 40,
     "metadata": {},
     "output_type": "execute_result"
    }
   ],
   "source": [
    "training_data_file_path = \"data/training_data.csv\"\n",
    "training_data = pd.read_csv(training_data_file_path)\n",
    "training_data.head(4)"
   ]
  },
  {
   "cell_type": "code",
   "execution_count": 41,
   "id": "1b21f9f2",
   "metadata": {
    "ExecuteTime": {
     "end_time": "2023-09-29T02:28:44.066442300Z",
     "start_time": "2023-09-29T02:28:43.994342600Z"
    }
   },
   "outputs": [
    {
     "name": "stdout",
     "output_type": "stream",
     "text": [
      "Index(['gender', 'hemo', 'bmi'], dtype='object')\n"
     ]
    }
   ],
   "source": [
    "columns_with_nan = training_data.columns[training_data.isna().any()]\n",
    "print(columns_with_nan)"
   ]
  },
  {
   "cell_type": "code",
   "execution_count": 42,
   "id": "08cf105f",
   "metadata": {
    "ExecuteTime": {
     "end_time": "2023-09-29T02:28:44.156016900Z",
     "start_time": "2023-09-29T02:28:44.058447900Z"
    }
   },
   "outputs": [
    {
     "data": {
      "text/plain": "(70000, 27)"
     },
     "execution_count": 42,
     "metadata": {},
     "output_type": "execute_result"
    }
   ],
   "source": [
    "training_data.shape"
   ]
  },
  {
   "cell_type": "code",
   "execution_count": 43,
   "id": "90242cda",
   "metadata": {
    "ExecuteTime": {
     "end_time": "2023-09-29T02:28:44.270022800Z",
     "start_time": "2023-09-29T02:28:44.074560900Z"
    }
   },
   "outputs": [],
   "source": [
    "X = training_data.select_dtypes(include=['int64', 'float64'])[training_data.select_dtypes(include=['int64', 'float64']).columns[0:-1]]\n",
    "boolean_columns = training_data.select_dtypes(include=['bool'])"
   ]
  },
  {
   "cell_type": "code",
   "execution_count": 44,
   "id": "4238a3d4",
   "metadata": {
    "ExecuteTime": {
     "end_time": "2023-09-29T02:28:44.278161200Z",
     "start_time": "2023-09-29T02:28:44.115173500Z"
    }
   },
   "outputs": [],
   "source": [
    "int_columns = boolean_columns.astype(int)"
   ]
  },
  {
   "cell_type": "code",
   "execution_count": 45,
   "id": "03bf94a4",
   "metadata": {
    "ExecuteTime": {
     "end_time": "2023-09-29T02:28:44.278161200Z",
     "start_time": "2023-09-29T02:28:44.147869300Z"
    }
   },
   "outputs": [
    {
     "data": {
      "text/plain": "0    1.0\n1    1.0\nName: gender, dtype: float64"
     },
     "execution_count": 45,
     "metadata": {},
     "output_type": "execute_result"
    }
   ],
   "source": [
    "gender_colums =  training_data['gender'].replace({'M': 1, 'F': 0})\n",
    "gender_colums = gender_colums.fillna(1)\n",
    "gender_colums.head(2)"
   ]
  },
  {
   "cell_type": "code",
   "execution_count": 46,
   "id": "d0e4bfce",
   "metadata": {
    "ExecuteTime": {
     "end_time": "2023-09-29T02:28:44.278161200Z",
     "start_time": "2023-09-29T02:28:44.172211800Z"
    }
   },
   "outputs": [
    {
     "name": "stdout",
     "output_type": "stream",
     "text": [
      "0\n"
     ]
    }
   ],
   "source": [
    "print(gender_colums.isnull().sum())"
   ]
  },
  {
   "cell_type": "code",
   "execution_count": 47,
   "id": "48f12daa",
   "metadata": {
    "ExecuteTime": {
     "end_time": "2023-09-29T02:28:44.278161200Z",
     "start_time": "2023-09-29T02:28:44.196577300Z"
    }
   },
   "outputs": [],
   "source": [
    "facid_colums = training_data['facid'].replace({'A': 0, 'B': 1, 'C': 2, 'D': 3,'E': 4})"
   ]
  },
  {
   "cell_type": "code",
   "execution_count": 48,
   "id": "497a7042",
   "metadata": {
    "ExecuteTime": {
     "end_time": "2023-09-29T02:28:44.373602700Z",
     "start_time": "2023-09-29T02:28:44.245345600Z"
    }
   },
   "outputs": [],
   "source": [
    "hemo_column = training_data['hemo'].replace({False: 0, True: 1})\n",
    "hemo_column = hemo_column.fillna(1)"
   ]
  },
  {
   "cell_type": "code",
   "execution_count": 49,
   "id": "6f974a8a",
   "metadata": {
    "ExecuteTime": {
     "end_time": "2023-09-29T02:28:44.373602700Z",
     "start_time": "2023-09-29T02:28:44.310675900Z"
    }
   },
   "outputs": [
    {
     "name": "stdout",
     "output_type": "stream",
     "text": [
      "0\n"
     ]
    }
   ],
   "source": [
    "print(hemo_column.isnull().sum())"
   ]
  },
  {
   "cell_type": "code",
   "execution_count": 50,
   "id": "72acd323",
   "metadata": {
    "ExecuteTime": {
     "end_time": "2023-09-29T02:28:44.485597Z",
     "start_time": "2023-09-29T02:28:44.326796500Z"
    }
   },
   "outputs": [
    {
     "data": {
      "text/plain": "(70000, 25)"
     },
     "execution_count": 50,
     "metadata": {},
     "output_type": "execute_result"
    }
   ],
   "source": [
    "X = pd.concat([X, int_columns], axis=1)\n",
    "X = pd.concat([X, gender_colums], axis=1)\n",
    "X = pd.concat([X, facid_colums], axis=1)\n",
    "X = pd.concat([X, hemo_column], axis=1)\n",
    "X = X.fillna(X.mean())\n",
    "#X = X.drop('id', axis=1)\n",
    "X.shape"
   ]
  },
  {
   "cell_type": "code",
   "execution_count": 51,
   "id": "d337425e",
   "metadata": {
    "ExecuteTime": {
     "end_time": "2023-09-29T02:28:44.502021200Z",
     "start_time": "2023-09-29T02:28:44.430473Z"
    }
   },
   "outputs": [
    {
     "name": "stdout",
     "output_type": "stream",
     "text": [
      "Index([], dtype='object')\n"
     ]
    }
   ],
   "source": [
    "columns_with_nan = X.columns[X.isna().any()]\n",
    "print(columns_with_nan)"
   ]
  },
  {
   "cell_type": "code",
   "execution_count": 52,
   "id": "b568fee3",
   "metadata": {
    "ExecuteTime": {
     "end_time": "2023-09-29T02:28:44.624089700Z",
     "start_time": "2023-09-29T02:28:44.446633300Z"
    }
   },
   "outputs": [],
   "source": [
    "test_data_last_path = \"data/test_data.csv\"\n",
    "test_data = pd.read_csv(test_data_last_path)\n",
    "#test_data = test_data.drop('id', axis=1)\n",
    "test_data_last_columns = test_data.columns;\n",
    "test_data_last_columns_array = list(test_data_last_columns)\n",
    "X = X[test_data_last_columns_array]\n"
   ]
  },
  {
   "cell_type": "code",
   "execution_count": 53,
   "id": "dde26db0",
   "metadata": {
    "ExecuteTime": {
     "end_time": "2023-09-29T02:28:44.624245700Z",
     "start_time": "2023-09-29T02:28:44.616450900Z"
    }
   },
   "outputs": [],
   "source": [
    "y = training_data['lengthofstay']"
   ]
  },
  {
   "cell_type": "code",
   "execution_count": 54,
   "id": "600c7202",
   "metadata": {
    "ExecuteTime": {
     "end_time": "2023-09-29T02:28:44.640529Z",
     "start_time": "2023-09-29T02:28:44.624245700Z"
    }
   },
   "outputs": [],
   "source": [
    "from sklearn.model_selection import train_test_split"
   ]
  },
  {
   "cell_type": "code",
   "execution_count": 55,
   "id": "f056d65c",
   "metadata": {
    "ExecuteTime": {
     "end_time": "2023-09-29T02:28:44.689282700Z",
     "start_time": "2023-09-29T02:28:44.648680900Z"
    }
   },
   "outputs": [],
   "source": [
    "X_train, X_test, y_train, y_test = train_test_split(X, y, random_state=42)"
   ]
  },
  {
   "cell_type": "code",
   "execution_count": 56,
   "id": "b3957320",
   "metadata": {
    "ExecuteTime": {
     "end_time": "2023-09-29T02:28:44.705664800Z",
     "start_time": "2023-09-29T02:28:44.697320400Z"
    }
   },
   "outputs": [
    {
     "name": "stdout",
     "output_type": "stream",
     "text": [
      "Training data: (52500, 25)\n",
      "Test data: (17500, 25)\n"
     ]
    }
   ],
   "source": [
    "print(f'Training data: {X_train.shape}\\nTest data: {X_test.shape}')"
   ]
  },
  {
   "cell_type": "code",
   "execution_count": 57,
   "id": "f2f64af2",
   "metadata": {
    "ExecuteTime": {
     "end_time": "2023-09-29T02:28:44.770596600Z",
     "start_time": "2023-09-29T02:28:44.705664800Z"
    }
   },
   "outputs": [],
   "source": [
    "from sklearn.ensemble import RandomForestClassifier"
   ]
  },
  {
   "cell_type": "code",
   "execution_count": 58,
   "id": "ef27601a",
   "metadata": {
    "ExecuteTime": {
     "end_time": "2023-09-29T02:28:44.770596600Z",
     "start_time": "2023-09-29T02:28:44.721860900Z"
    }
   },
   "outputs": [],
   "source": [
    "rf = RandomForestClassifier(random_state= 42, n_estimators=100)"
   ]
  },
  {
   "cell_type": "code",
   "execution_count": 59,
   "id": "3f6d396e",
   "metadata": {
    "ExecuteTime": {
     "end_time": "2023-09-29T02:29:25.839102600Z",
     "start_time": "2023-09-29T02:28:44.746207Z"
    }
   },
   "outputs": [
    {
     "data": {
      "text/plain": "RandomForestClassifier(random_state=42)",
      "text/html": "<style>#sk-container-id-2 {color: black;}#sk-container-id-2 pre{padding: 0;}#sk-container-id-2 div.sk-toggleable {background-color: white;}#sk-container-id-2 label.sk-toggleable__label {cursor: pointer;display: block;width: 100%;margin-bottom: 0;padding: 0.3em;box-sizing: border-box;text-align: center;}#sk-container-id-2 label.sk-toggleable__label-arrow:before {content: \"▸\";float: left;margin-right: 0.25em;color: #696969;}#sk-container-id-2 label.sk-toggleable__label-arrow:hover:before {color: black;}#sk-container-id-2 div.sk-estimator:hover label.sk-toggleable__label-arrow:before {color: black;}#sk-container-id-2 div.sk-toggleable__content {max-height: 0;max-width: 0;overflow: hidden;text-align: left;background-color: #f0f8ff;}#sk-container-id-2 div.sk-toggleable__content pre {margin: 0.2em;color: black;border-radius: 0.25em;background-color: #f0f8ff;}#sk-container-id-2 input.sk-toggleable__control:checked~div.sk-toggleable__content {max-height: 200px;max-width: 100%;overflow: auto;}#sk-container-id-2 input.sk-toggleable__control:checked~label.sk-toggleable__label-arrow:before {content: \"▾\";}#sk-container-id-2 div.sk-estimator input.sk-toggleable__control:checked~label.sk-toggleable__label {background-color: #d4ebff;}#sk-container-id-2 div.sk-label input.sk-toggleable__control:checked~label.sk-toggleable__label {background-color: #d4ebff;}#sk-container-id-2 input.sk-hidden--visually {border: 0;clip: rect(1px 1px 1px 1px);clip: rect(1px, 1px, 1px, 1px);height: 1px;margin: -1px;overflow: hidden;padding: 0;position: absolute;width: 1px;}#sk-container-id-2 div.sk-estimator {font-family: monospace;background-color: #f0f8ff;border: 1px dotted black;border-radius: 0.25em;box-sizing: border-box;margin-bottom: 0.5em;}#sk-container-id-2 div.sk-estimator:hover {background-color: #d4ebff;}#sk-container-id-2 div.sk-parallel-item::after {content: \"\";width: 100%;border-bottom: 1px solid gray;flex-grow: 1;}#sk-container-id-2 div.sk-label:hover label.sk-toggleable__label {background-color: #d4ebff;}#sk-container-id-2 div.sk-serial::before {content: \"\";position: absolute;border-left: 1px solid gray;box-sizing: border-box;top: 0;bottom: 0;left: 50%;z-index: 0;}#sk-container-id-2 div.sk-serial {display: flex;flex-direction: column;align-items: center;background-color: white;padding-right: 0.2em;padding-left: 0.2em;position: relative;}#sk-container-id-2 div.sk-item {position: relative;z-index: 1;}#sk-container-id-2 div.sk-parallel {display: flex;align-items: stretch;justify-content: center;background-color: white;position: relative;}#sk-container-id-2 div.sk-item::before, #sk-container-id-2 div.sk-parallel-item::before {content: \"\";position: absolute;border-left: 1px solid gray;box-sizing: border-box;top: 0;bottom: 0;left: 50%;z-index: -1;}#sk-container-id-2 div.sk-parallel-item {display: flex;flex-direction: column;z-index: 1;position: relative;background-color: white;}#sk-container-id-2 div.sk-parallel-item:first-child::after {align-self: flex-end;width: 50%;}#sk-container-id-2 div.sk-parallel-item:last-child::after {align-self: flex-start;width: 50%;}#sk-container-id-2 div.sk-parallel-item:only-child::after {width: 0;}#sk-container-id-2 div.sk-dashed-wrapped {border: 1px dashed gray;margin: 0 0.4em 0.5em 0.4em;box-sizing: border-box;padding-bottom: 0.4em;background-color: white;}#sk-container-id-2 div.sk-label label {font-family: monospace;font-weight: bold;display: inline-block;line-height: 1.2em;}#sk-container-id-2 div.sk-label-container {text-align: center;}#sk-container-id-2 div.sk-container {/* jupyter's `normalize.less` sets `[hidden] { display: none; }` but bootstrap.min.css set `[hidden] { display: none !important; }` so we also need the `!important` here to be able to override the default hidden behavior on the sphinx rendered scikit-learn.org. See: https://github.com/scikit-learn/scikit-learn/issues/21755 */display: inline-block !important;position: relative;}#sk-container-id-2 div.sk-text-repr-fallback {display: none;}</style><div id=\"sk-container-id-2\" class=\"sk-top-container\"><div class=\"sk-text-repr-fallback\"><pre>RandomForestClassifier(random_state=42)</pre><b>In a Jupyter environment, please rerun this cell to show the HTML representation or trust the notebook. <br />On GitHub, the HTML representation is unable to render, please try loading this page with nbviewer.org.</b></div><div class=\"sk-container\" hidden><div class=\"sk-item\"><div class=\"sk-estimator sk-toggleable\"><input class=\"sk-toggleable__control sk-hidden--visually\" id=\"sk-estimator-id-2\" type=\"checkbox\" checked><label for=\"sk-estimator-id-2\" class=\"sk-toggleable__label sk-toggleable__label-arrow\">RandomForestClassifier</label><div class=\"sk-toggleable__content\"><pre>RandomForestClassifier(random_state=42)</pre></div></div></div></div></div>"
     },
     "execution_count": 59,
     "metadata": {},
     "output_type": "execute_result"
    }
   ],
   "source": [
    "rf.fit(X_train, y_train)"
   ]
  },
  {
   "cell_type": "code",
   "execution_count": 60,
   "id": "a065c12f",
   "metadata": {
    "ExecuteTime": {
     "end_time": "2023-09-29T02:29:26.681101300Z",
     "start_time": "2023-09-29T02:29:25.839102600Z"
    }
   },
   "outputs": [],
   "source": [
    "y_pred = rf.predict(X_test)"
   ]
  },
  {
   "cell_type": "code",
   "execution_count": 61,
   "id": "2fef7e40",
   "metadata": {
    "ExecuteTime": {
     "end_time": "2023-09-29T02:29:26.697460500Z",
     "start_time": "2023-09-29T02:29:26.686570500Z"
    }
   },
   "outputs": [],
   "source": [
    "from sklearn.metrics import accuracy_score"
   ]
  },
  {
   "cell_type": "code",
   "execution_count": 62,
   "id": "3bb60beb",
   "metadata": {
    "ExecuteTime": {
     "end_time": "2023-09-29T02:29:26.762377200Z",
     "start_time": "2023-09-29T02:29:26.697460500Z"
    }
   },
   "outputs": [
    {
     "data": {
      "text/plain": "0.6320571428571429"
     },
     "execution_count": 62,
     "metadata": {},
     "output_type": "execute_result"
    }
   ],
   "source": [
    "accuracy_score(y_test, y_pred)"
   ]
  },
  {
   "cell_type": "code",
   "execution_count": 63,
   "id": "a7bb6a70",
   "metadata": {
    "ExecuteTime": {
     "end_time": "2023-09-29T02:29:26.778868300Z",
     "start_time": "2023-09-29T02:29:26.721830800Z"
    }
   },
   "outputs": [
    {
     "name": "stdout",
     "output_type": "stream",
     "text": [
      "rcount                     : 0.2098\n",
      "bmi                        : 0.0777\n",
      "glucose                    : 0.0772\n",
      "creatinine                 : 0.0766\n",
      "sodium                     : 0.0764\n",
      "pulse                      : 0.0695\n",
      "hematocrit                 : 0.0670\n",
      "neutrophils                : 0.0577\n",
      "id                         : 0.0522\n",
      "facid                      : 0.0460\n",
      "respiration                : 0.0424\n",
      "bloodureanitro             : 0.0395\n",
      "secondarydiagnosisnonicd9  : 0.0272\n",
      "psychologicaldisordermajor : 0.0177\n",
      "hemo                       : 0.0128\n",
      "gender                     : 0.0099\n",
      "irondef                    : 0.0073\n",
      "substancedependence        : 0.0067\n",
      "dialysisrenalendstage      : 0.0053\n",
      "depress                    : 0.0051\n",
      "asthma                     : 0.0044\n",
      "pneum                      : 0.0040\n",
      "malnutrition               : 0.0036\n",
      "psychother                 : 0.0034\n",
      "fibrosisandother           : 0.0007\n"
     ]
    }
   ],
   "source": [
    "importances = rf.feature_importances_\n",
    "cols = X.columns\n",
    "\n",
    "# Create a list of tuples (importance, column name)\n",
    "importance_list = list(zip(importances, cols))\n",
    "\n",
    "# Sort the list by importance (in descending order)\n",
    "importance_list.sort(reverse=True)\n",
    "\n",
    "# Print the sorted list\n",
    "for importance, col in importance_list:\n",
    "    print(f'{col: <27}: {importance:.4f}')"
   ]
  },
  {
   "cell_type": "code",
   "execution_count": 64,
   "id": "9dd3bf6a",
   "metadata": {
    "ExecuteTime": {
     "end_time": "2023-09-29T02:29:26.827595300Z",
     "start_time": "2023-09-29T02:29:26.786916300Z"
    }
   },
   "outputs": [],
   "source": [
    "def predict_lengthofstay(gender, bmi, rcount, glucose, creatinine):\n",
    "    \n",
    "    input_data = pd.DataFrame({\n",
    "        'id': [X['id'].mean()],\n",
    "        #'rcount': [X['rcount'].mean()],\n",
    "        'rcount': [rcont],\n",
    "        'gender': [gender], \n",
    "        'dialysisrenalendstage': [X['dialysisrenalendstage'].mean()],\n",
    "        'asthma': [X['asthma'].mean()],\n",
    "        'irondef': [X['irondef'].mean()],\n",
    "        'pneum': [X['pneum'].mean()],\n",
    "        'substancedependence': [X['substancedependence'].mean()],\n",
    "        'psychologicaldisordermajor': [X['psychologicaldisordermajor'].mean()],\n",
    "        'depress': [X['depress'].mean()],\n",
    "        'psychother': [X['psychother'].mean()],\n",
    "        'fibrosisandother': [X['fibrosisandother'].mean()],\n",
    "        'malnutrition': [X['malnutrition'].mean()],\n",
    "        'hemo': [X['hemo'].mean()],\n",
    "        'hematocrit': [X['hematocrit'].mean()],\n",
    "        'neutrophils': [X['neutrophils'].mean()],\n",
    "        'sodium': [X['sodium'].mean()],\n",
    "        #'glucose': [X['glucose'].mean()],\n",
    "        'glucose': [glucose],\n",
    "        'bloodureanitro': [X['bloodureanitro'].mean()],\n",
    "        #'creatinine': [X['creatinine'].mean()],\n",
    "        'creatinine': [creatinine],\n",
    "        'bmi': [bmi],  # Replace with the actual bmi value\n",
    "        'pulse': [X['pulse'].mean()],\n",
    "        'respiration': [X['respiration'].mean()],\n",
    "        'secondarydiagnosisnonicd9': [X['secondarydiagnosisnonicd9'].mean()],\n",
    "        'facid': [X['facid'].mean()]\n",
    "    })\n",
    "    \n",
    "    prediction = rf.predict(input_data)\n",
    "\n",
    "\n",
    "    \n",
    "    # Return the result\n",
    "    return prediction[0]"
   ]
  },
  {
   "cell_type": "code",
   "execution_count": 65,
   "id": "5273af35",
   "metadata": {
    "ExecuteTime": {
     "end_time": "2023-09-29T02:29:26.852149600Z",
     "start_time": "2023-09-29T02:29:26.795078200Z"
    }
   },
   "outputs": [
    {
     "data": {
      "text/plain": "9"
     },
     "execution_count": 65,
     "metadata": {},
     "output_type": "execute_result"
    }
   ],
   "source": [
    "gender = 1\n",
    "bmi =  34\n",
    "rcont = 5\n",
    "glucose = 268\n",
    "creatinine = 2\n",
    "    \n",
    "predict_lengthofstay(gender, bmi, rcont, glucose, creatinine)"
   ]
  },
  {
   "cell_type": "code",
   "execution_count": 66,
   "id": "853092d6",
   "metadata": {
    "ExecuteTime": {
     "end_time": "2023-09-29T02:29:26.909677400Z",
     "start_time": "2023-09-29T02:29:26.852149600Z"
    }
   },
   "outputs": [],
   "source": [
    "if (colab or kaggle):\n",
    "    %pip install gradio"
   ]
  },
  {
   "cell_type": "code",
   "execution_count": 67,
   "id": "2bee1422",
   "metadata": {
    "ExecuteTime": {
     "end_time": "2023-09-29T02:29:26.909677400Z",
     "start_time": "2023-09-29T02:29:26.868386600Z"
    }
   },
   "outputs": [],
   "source": [
    "import gradio as gr"
   ]
  },
  {
   "cell_type": "code",
   "execution_count": 68,
   "id": "6c704385",
   "metadata": {
    "ExecuteTime": {
     "end_time": "2023-09-29T02:29:26.909677400Z",
     "start_time": "2023-09-29T02:29:26.876636Z"
    }
   },
   "outputs": [],
   "source": [
    "# Set the minimum, maximum, and default values for the variables\n",
    "gender_min, gender_max, gender_default = 0, 1, 1\n",
    "bmi_min, bmi_max, bmi_default = 15, 39, 34\n",
    "rcount_min, rcount_max, rcount_default = 0, 5, 3\n",
    "glucose_min, glucose_max, glucose_default = 0, 268, 200\n",
    "creatinine_min, creatinine_max, creatinine_default = 0, 3, 1\n",
    "\n",
    "\n"
   ]
  },
  {
   "cell_type": "code",
   "execution_count": 69,
   "id": "4f5c805e",
   "metadata": {
    "scrolled": false,
    "ExecuteTime": {
     "end_time": "2023-09-29T02:29:35.537629700Z",
     "start_time": "2023-09-29T02:29:26.901064800Z"
    }
   },
   "outputs": [
    {
     "name": "stdout",
     "output_type": "stream",
     "text": [
      "Running on local URL:  http://127.0.0.1:7861\n",
      "\n",
      "Could not create share link. Please check your internet connection or our status page: https://status.gradio.app.\n"
     ]
    },
    {
     "data": {
      "text/plain": "<IPython.core.display.HTML object>",
      "text/html": "<div><iframe src=\"http://127.0.0.1:7861/\" width=\"100%\" height=\"500\" allow=\"autoplay; camera; microphone; clipboard-read; clipboard-write;\" frameborder=\"0\" allowfullscreen></iframe></div>"
     },
     "metadata": {},
     "output_type": "display_data"
    },
    {
     "data": {
      "text/plain": ""
     },
     "execution_count": 69,
     "metadata": {},
     "output_type": "execute_result"
    }
   ],
   "source": [
    "# Set the minimum, maximum, and default values for the variables\n",
    "gender_min, gender_max, gender_default = 0, 1, 1\n",
    "bmi_min, bmi_max, bmi_default = 15, 39, 34\n",
    "rcount_min, rcount_max, rcount_default = 0, 5, 3\n",
    "glucose_min, glucose_max, glucose_default = 0, 268, 200\n",
    "creatinine_min, creatinine_max, creatinine_default = 0, 2, 1\n",
    "\n",
    "# Create the interface\n",
    "iface = gr.Interface(\n",
    "    fn=predict_lengthofstay, \n",
    "    inputs=[\n",
    "        gr.components.Slider(minimum=gender_min, maximum=gender_max, value=gender_default, label=\"Gender\", step=1),\n",
    "        gr.components.Slider(minimum=bmi_min, maximum=bmi_max, value=bmi_default, label=\"BMI\"),\n",
    "        gr.components.Slider(minimum=rcount_min, maximum=rcount_max, value=rcount_default, label=\"Rcount\",step=1),\n",
    "        gr.components.Slider(minimum=glucose_min, maximum=glucose_max, value=glucose_default, label=\"Glucose Level\"),\n",
    "        gr.components.Slider(minimum=creatinine_min, maximum=creatinine_max, value=creatinine_default, label=\"Creatinine\")\n",
    "    ], \n",
    "    outputs=gr.components.Textbox(label=\"Prediction\"),\n",
    "    title=\"Length of Stay Predictor\",\n",
    "    description=\"Enter the values to predict the length of stay.\",\n",
    ")\n",
    "\n",
    "# Launch the interface\n",
    "iface.launch(share=True)"
   ]
  },
  {
   "cell_type": "code",
   "execution_count": 70,
   "id": "baa08acd",
   "metadata": {
    "ExecuteTime": {
     "end_time": "2023-09-29T02:29:36.953297Z",
     "start_time": "2023-09-29T02:29:35.489795Z"
    }
   },
   "outputs": [],
   "source": [
    "test_pred = rf.predict(test_data)"
   ]
  },
  {
   "cell_type": "code",
   "execution_count": 71,
   "id": "0bf6a439",
   "metadata": {
    "ExecuteTime": {
     "end_time": "2023-09-29T02:29:36.969439400Z",
     "start_time": "2023-09-29T02:29:36.959392600Z"
    }
   },
   "outputs": [],
   "source": [
    "submission_df = pd.DataFrame({\n",
    "    \"id\": test_data[\"id\"].astype(int),\n",
    "    \"lengthofstay\": test_pred.astype(int)\n",
    "})"
   ]
  },
  {
   "cell_type": "code",
   "execution_count": 72,
   "id": "253aea6e",
   "metadata": {
    "ExecuteTime": {
     "end_time": "2023-09-29T02:29:36.994031100Z",
     "start_time": "2023-09-29T02:29:36.969439400Z"
    }
   },
   "outputs": [
    {
     "data": {
      "text/plain": "(30000, 2)"
     },
     "execution_count": 72,
     "metadata": {},
     "output_type": "execute_result"
    }
   ],
   "source": [
    "submission_df.shape"
   ]
  },
  {
   "cell_type": "code",
   "execution_count": 73,
   "id": "c9383991",
   "metadata": {
    "ExecuteTime": {
     "end_time": "2023-09-29T02:29:37.065983300Z",
     "start_time": "2023-09-29T02:29:37.002027400Z"
    }
   },
   "outputs": [],
   "source": [
    "file_path = 'submission.csv'\n",
    "\n",
    "# Write the DataFrame to a CSV file\n",
    "submission_df.to_csv(file_path, index=None)"
   ]
  },
  {
   "cell_type": "code",
   "execution_count": 74,
   "id": "8b356037",
   "metadata": {
    "ExecuteTime": {
     "end_time": "2023-09-29T02:29:37.137934Z",
     "start_time": "2023-09-29T02:29:37.057988Z"
    }
   },
   "outputs": [
    {
     "data": {
      "text/plain": "          id  lengthofstay\n0      75721             2\n1      80184             2\n2      19864             7\n3      76699             3\n4      92991             3\n...      ...           ...\n29995  42648             6\n29996  86306             3\n29997  45466             6\n29998  63724             5\n29999  34122             1\n\n[30000 rows x 2 columns]",
      "text/html": "<div>\n<style scoped>\n    .dataframe tbody tr th:only-of-type {\n        vertical-align: middle;\n    }\n\n    .dataframe tbody tr th {\n        vertical-align: top;\n    }\n\n    .dataframe thead th {\n        text-align: right;\n    }\n</style>\n<table border=\"1\" class=\"dataframe\">\n  <thead>\n    <tr style=\"text-align: right;\">\n      <th></th>\n      <th>id</th>\n      <th>lengthofstay</th>\n    </tr>\n  </thead>\n  <tbody>\n    <tr>\n      <th>0</th>\n      <td>75721</td>\n      <td>2</td>\n    </tr>\n    <tr>\n      <th>1</th>\n      <td>80184</td>\n      <td>2</td>\n    </tr>\n    <tr>\n      <th>2</th>\n      <td>19864</td>\n      <td>7</td>\n    </tr>\n    <tr>\n      <th>3</th>\n      <td>76699</td>\n      <td>3</td>\n    </tr>\n    <tr>\n      <th>4</th>\n      <td>92991</td>\n      <td>3</td>\n    </tr>\n    <tr>\n      <th>...</th>\n      <td>...</td>\n      <td>...</td>\n    </tr>\n    <tr>\n      <th>29995</th>\n      <td>42648</td>\n      <td>6</td>\n    </tr>\n    <tr>\n      <th>29996</th>\n      <td>86306</td>\n      <td>3</td>\n    </tr>\n    <tr>\n      <th>29997</th>\n      <td>45466</td>\n      <td>6</td>\n    </tr>\n    <tr>\n      <th>29998</th>\n      <td>63724</td>\n      <td>5</td>\n    </tr>\n    <tr>\n      <th>29999</th>\n      <td>34122</td>\n      <td>1</td>\n    </tr>\n  </tbody>\n</table>\n<p>30000 rows × 2 columns</p>\n</div>"
     },
     "execution_count": 74,
     "metadata": {},
     "output_type": "execute_result"
    }
   ],
   "source": [
    "pd.read_csv(\"submission.csv\")"
   ]
  },
  {
   "cell_type": "code",
   "execution_count": 74,
   "outputs": [],
   "source": [],
   "metadata": {
    "collapsed": false,
    "ExecuteTime": {
     "end_time": "2023-09-29T02:29:37.170376500Z",
     "start_time": "2023-09-29T02:29:37.137934Z"
    }
   }
  }
 ],
 "metadata": {
  "kernelspec": {
   "display_name": "Python 3 (ipykernel)",
   "language": "python",
   "name": "python3"
  },
  "language_info": {
   "codemirror_mode": {
    "name": "ipython",
    "version": 3
   },
   "file_extension": ".py",
   "mimetype": "text/x-python",
   "name": "python",
   "nbconvert_exporter": "python",
   "pygments_lexer": "ipython3",
   "version": "3.11.4"
  }
 },
 "nbformat": 4,
 "nbformat_minor": 5
}
