{
 "cells": [
  {
   "cell_type": "markdown",
   "id": "5f1fe30f",
   "metadata": {},
   "source": [
    "# Importing libraries "
   ]
  },
  {
   "cell_type": "code",
   "execution_count": 1,
   "id": "7cede37c",
   "metadata": {},
   "outputs": [],
   "source": [
    "# This is a quick check of whether the notebook is currently running on Google Colaboratory\n",
    "# or on Kaggle, as that makes some difference for the code below.\n",
    "# We'll do this in every notebook of the course.\n",
    "try:\n",
    "    import google.colab\n",
    "    colab=True\n",
    "except:\n",
    "    colab=False\n",
    "\n",
    "import os\n",
    "kaggle = os.environ.get('KAGGLE_KERNEL_RUN_TYPE', '')"
   ]
  },
  {
   "cell_type": "code",
   "execution_count": 2,
   "id": "ee3ef35b",
   "metadata": {
    "ExecuteTime": {
     "end_time": "2023-09-22T16:57:09.184674300Z",
     "start_time": "2023-09-22T16:57:09.180203700Z"
    }
   },
   "outputs": [],
   "source": [
    "import numpy as np\n",
    "import pandas as pd\n",
    "import matplotlib.pyplot as plt"
   ]
  },
  {
   "cell_type": "markdown",
   "id": "4cc2dda1",
   "metadata": {
    "ExecuteTime": {
     "end_time": "2023-09-22T12:39:13.580554300Z",
     "start_time": "2023-09-22T12:39:13.562241600Z"
    }
   },
   "source": [
    "# Loading data"
   ]
  },
  {
   "cell_type": "code",
   "execution_count": 3,
   "id": "d083bd17",
   "metadata": {
    "ExecuteTime": {
     "end_time": "2023-09-22T16:57:10.858950800Z",
     "start_time": "2023-09-22T16:57:10.682916300Z"
    }
   },
   "outputs": [
    {
     "data": {
      "text/html": [
       "<div>\n",
       "<style scoped>\n",
       "    .dataframe tbody tr th:only-of-type {\n",
       "        vertical-align: middle;\n",
       "    }\n",
       "\n",
       "    .dataframe tbody tr th {\n",
       "        vertical-align: top;\n",
       "    }\n",
       "\n",
       "    .dataframe thead th {\n",
       "        text-align: right;\n",
       "    }\n",
       "</style>\n",
       "<table border=\"1\" class=\"dataframe\">\n",
       "  <thead>\n",
       "    <tr style=\"text-align: right;\">\n",
       "      <th></th>\n",
       "      <th>id</th>\n",
       "      <th>vdate</th>\n",
       "      <th>rcount</th>\n",
       "      <th>gender</th>\n",
       "      <th>dialysisrenalendstage</th>\n",
       "      <th>asthma</th>\n",
       "      <th>irondef</th>\n",
       "      <th>pneum</th>\n",
       "      <th>substancedependence</th>\n",
       "      <th>psychologicaldisordermajor</th>\n",
       "      <th>...</th>\n",
       "      <th>sodium</th>\n",
       "      <th>glucose</th>\n",
       "      <th>bloodureanitro</th>\n",
       "      <th>creatinine</th>\n",
       "      <th>bmi</th>\n",
       "      <th>pulse</th>\n",
       "      <th>respiration</th>\n",
       "      <th>secondarydiagnosisnonicd9</th>\n",
       "      <th>facid</th>\n",
       "      <th>lengthofstay</th>\n",
       "    </tr>\n",
       "  </thead>\n",
       "  <tbody>\n",
       "    <tr>\n",
       "      <th>0</th>\n",
       "      <td>76513</td>\n",
       "      <td>2012-07-05</td>\n",
       "      <td>4</td>\n",
       "      <td>M</td>\n",
       "      <td>False</td>\n",
       "      <td>False</td>\n",
       "      <td>False</td>\n",
       "      <td>False</td>\n",
       "      <td>False</td>\n",
       "      <td>True</td>\n",
       "      <td>...</td>\n",
       "      <td>137.150067</td>\n",
       "      <td>148.420532</td>\n",
       "      <td>23.0</td>\n",
       "      <td>0.955051</td>\n",
       "      <td>28.450268</td>\n",
       "      <td>63</td>\n",
       "      <td>6.7</td>\n",
       "      <td>1</td>\n",
       "      <td>E</td>\n",
       "      <td>7</td>\n",
       "    </tr>\n",
       "    <tr>\n",
       "      <th>1</th>\n",
       "      <td>60406</td>\n",
       "      <td>2012-02-26</td>\n",
       "      <td>1</td>\n",
       "      <td>M</td>\n",
       "      <td>False</td>\n",
       "      <td>False</td>\n",
       "      <td>False</td>\n",
       "      <td>False</td>\n",
       "      <td>False</td>\n",
       "      <td>False</td>\n",
       "      <td>...</td>\n",
       "      <td>140.643655</td>\n",
       "      <td>166.718526</td>\n",
       "      <td>9.0</td>\n",
       "      <td>1.385747</td>\n",
       "      <td>29.233048</td>\n",
       "      <td>81</td>\n",
       "      <td>6.5</td>\n",
       "      <td>0</td>\n",
       "      <td>B</td>\n",
       "      <td>3</td>\n",
       "    </tr>\n",
       "    <tr>\n",
       "      <th>2</th>\n",
       "      <td>27322</td>\n",
       "      <td>2012-11-19</td>\n",
       "      <td>1</td>\n",
       "      <td>F</td>\n",
       "      <td>False</td>\n",
       "      <td>False</td>\n",
       "      <td>False</td>\n",
       "      <td>False</td>\n",
       "      <td>False</td>\n",
       "      <td>False</td>\n",
       "      <td>...</td>\n",
       "      <td>138.459305</td>\n",
       "      <td>106.468142</td>\n",
       "      <td>12.0</td>\n",
       "      <td>0.816984</td>\n",
       "      <td>34.295535</td>\n",
       "      <td>75</td>\n",
       "      <td>6.5</td>\n",
       "      <td>1</td>\n",
       "      <td>B</td>\n",
       "      <td>5</td>\n",
       "    </tr>\n",
       "    <tr>\n",
       "      <th>3</th>\n",
       "      <td>53699</td>\n",
       "      <td>2012-01-30</td>\n",
       "      <td>0</td>\n",
       "      <td>F</td>\n",
       "      <td>False</td>\n",
       "      <td>False</td>\n",
       "      <td>False</td>\n",
       "      <td>False</td>\n",
       "      <td>False</td>\n",
       "      <td>False</td>\n",
       "      <td>...</td>\n",
       "      <td>138.667613</td>\n",
       "      <td>144.311236</td>\n",
       "      <td>12.0</td>\n",
       "      <td>1.082725</td>\n",
       "      <td>31.207914</td>\n",
       "      <td>75</td>\n",
       "      <td>6.5</td>\n",
       "      <td>1</td>\n",
       "      <td>B</td>\n",
       "      <td>2</td>\n",
       "    </tr>\n",
       "  </tbody>\n",
       "</table>\n",
       "<p>4 rows × 27 columns</p>\n",
       "</div>"
      ],
      "text/plain": [
       "      id       vdate  rcount gender  dialysisrenalendstage  asthma  irondef  \\\n",
       "0  76513  2012-07-05       4      M                  False   False    False   \n",
       "1  60406  2012-02-26       1      M                  False   False    False   \n",
       "2  27322  2012-11-19       1      F                  False   False    False   \n",
       "3  53699  2012-01-30       0      F                  False   False    False   \n",
       "\n",
       "   pneum  substancedependence  psychologicaldisordermajor  ...      sodium  \\\n",
       "0  False                False                        True  ...  137.150067   \n",
       "1  False                False                       False  ...  140.643655   \n",
       "2  False                False                       False  ...  138.459305   \n",
       "3  False                False                       False  ...  138.667613   \n",
       "\n",
       "      glucose  bloodureanitro  creatinine        bmi  pulse  respiration  \\\n",
       "0  148.420532            23.0    0.955051  28.450268     63          6.7   \n",
       "1  166.718526             9.0    1.385747  29.233048     81          6.5   \n",
       "2  106.468142            12.0    0.816984  34.295535     75          6.5   \n",
       "3  144.311236            12.0    1.082725  31.207914     75          6.5   \n",
       "\n",
       "   secondarydiagnosisnonicd9  facid  lengthofstay  \n",
       "0                          1      E             7  \n",
       "1                          0      B             3  \n",
       "2                          1      B             5  \n",
       "3                          1      B             2  \n",
       "\n",
       "[4 rows x 27 columns]"
      ]
     },
     "execution_count": 3,
     "metadata": {},
     "output_type": "execute_result"
    }
   ],
   "source": [
    "training_data_file_path = \"data/training_data.csv\"\n",
    "training_data = pd.read_csv(training_data_file_path)\n",
    "training_data.head(4)"
   ]
  },
  {
   "cell_type": "code",
   "execution_count": 4,
   "id": "1b21f9f2",
   "metadata": {
    "ExecuteTime": {
     "end_time": "2023-09-22T16:57:11.090271400Z",
     "start_time": "2023-09-22T16:57:11.059628700Z"
    }
   },
   "outputs": [
    {
     "name": "stdout",
     "output_type": "stream",
     "text": [
      "Index(['gender', 'hemo', 'bmi'], dtype='object')\n"
     ]
    }
   ],
   "source": [
    "columns_with_nan = training_data.columns[training_data.isna().any()]\n",
    "print(columns_with_nan)"
   ]
  },
  {
   "cell_type": "code",
   "execution_count": 5,
   "id": "08cf105f",
   "metadata": {
    "ExecuteTime": {
     "end_time": "2023-09-22T16:57:12.903165300Z",
     "start_time": "2023-09-22T16:57:12.871796200Z"
    }
   },
   "outputs": [
    {
     "data": {
      "text/plain": [
       "(70000, 27)"
      ]
     },
     "execution_count": 5,
     "metadata": {},
     "output_type": "execute_result"
    }
   ],
   "source": [
    "training_data.shape"
   ]
  },
  {
   "cell_type": "code",
   "execution_count": 6,
   "id": "90242cda",
   "metadata": {},
   "outputs": [],
   "source": [
    "X = training_data.select_dtypes(include=['int64', 'float64'])[training_data.select_dtypes(include=['int64', 'float64']).columns[0:-1]]\n",
    "boolean_columns = training_data.select_dtypes(include=['bool'])"
   ]
  },
  {
   "cell_type": "code",
   "execution_count": 7,
   "id": "4238a3d4",
   "metadata": {},
   "outputs": [],
   "source": [
    "int_columns = boolean_columns.astype(int)"
   ]
  },
  {
   "cell_type": "code",
   "execution_count": 8,
   "id": "03bf94a4",
   "metadata": {},
   "outputs": [
    {
     "data": {
      "text/plain": [
       "array([1.        , 0.        , 0.42435424])"
      ]
     },
     "execution_count": 8,
     "metadata": {},
     "output_type": "execute_result"
    }
   ],
   "source": [
    "gender_colums =  training_data['gender'].replace({'M': 1, 'F': 0})\n",
    "gender_colums = gender_colums.fillna(1)\n",
    "gender_colums.head(2)"
   ]
  },
  {
   "cell_type": "code",
   "execution_count": 9,
   "id": "d0e4bfce",
   "metadata": {},
   "outputs": [
    {
     "name": "stdout",
     "output_type": "stream",
     "text": [
      "0\n"
     ]
    }
   ],
   "source": [
    "print(gender_colums.isnull().sum())"
   ]
  },
  {
   "cell_type": "code",
   "execution_count": 10,
   "id": "48f12daa",
   "metadata": {},
   "outputs": [],
   "source": [
    "facid_colums = training_data['facid'].replace({'A': 0, 'B': 1, 'C': 2, 'D': 3,'E': 4})"
   ]
  },
  {
   "cell_type": "code",
   "execution_count": 11,
   "id": "497a7042",
   "metadata": {},
   "outputs": [
    {
     "data": {
      "text/plain": [
       "array([0.        , 1.        , 0.07921004])"
      ]
     },
     "execution_count": 11,
     "metadata": {},
     "output_type": "execute_result"
    }
   ],
   "source": [
    "hemo_column = training_data['hemo'].replace({False: 0, True: 1})\n",
    "hemo_column = hemo_column.fillna(1)"
   ]
  },
  {
   "cell_type": "code",
   "execution_count": 12,
   "id": "6f974a8a",
   "metadata": {},
   "outputs": [
    {
     "name": "stdout",
     "output_type": "stream",
     "text": [
      "0\n"
     ]
    }
   ],
   "source": [
    "print(hemo_column.isnull().sum())"
   ]
  },
  {
   "cell_type": "code",
   "execution_count": 13,
   "id": "72acd323",
   "metadata": {
    "ExecuteTime": {
     "end_time": "2023-09-22T16:57:52.791422400Z",
     "start_time": "2023-09-22T16:57:52.684204Z"
    }
   },
   "outputs": [
    {
     "data": {
      "text/plain": [
       "(70000, 25)"
      ]
     },
     "execution_count": 13,
     "metadata": {},
     "output_type": "execute_result"
    }
   ],
   "source": [
    "X = pd.concat([X, int_columns], axis=1)\n",
    "X = pd.concat([X, gender_colums], axis=1)\n",
    "X = pd.concat([X, facid_colums], axis=1)\n",
    "X = pd.concat([X, hemo_column], axis=1)\n",
    "X = X.fillna(X.mean())\n",
    "#X = X.drop('id', axis=1)\n",
    "X.shape"
   ]
  },
  {
   "cell_type": "code",
   "execution_count": 14,
   "id": "d337425e",
   "metadata": {
    "ExecuteTime": {
     "end_time": "2023-09-22T16:57:53.462675500Z",
     "start_time": "2023-09-22T16:57:53.451052200Z"
    }
   },
   "outputs": [
    {
     "name": "stdout",
     "output_type": "stream",
     "text": [
      "Index([], dtype='object')\n"
     ]
    }
   ],
   "source": [
    "columns_with_nan = X.columns[X.isna().any()]\n",
    "print(columns_with_nan)"
   ]
  },
  {
   "cell_type": "code",
   "execution_count": 15,
   "id": "b568fee3",
   "metadata": {
    "ExecuteTime": {
     "end_time": "2023-09-22T16:57:54.706896700Z",
     "start_time": "2023-09-22T16:57:54.625624300Z"
    }
   },
   "outputs": [],
   "source": [
    "test_data_last_path = \"data/test_data.csv\"\n",
    "test_data = pd.read_csv(test_data_last_path)\n",
    "#test_data = test_data.drop('id', axis=1)\n",
    "test_data_last_columns = test_data.columns;\n",
    "test_data_last_columns_array = list(test_data_last_columns)\n",
    "X = X[test_data_last_columns_array]\n"
   ]
  },
  {
   "cell_type": "code",
   "execution_count": 16,
   "id": "07eb583d",
   "metadata": {},
   "outputs": [
    {
     "data": {
      "text/html": [
       "<div>\n",
       "<style scoped>\n",
       "    .dataframe tbody tr th:only-of-type {\n",
       "        vertical-align: middle;\n",
       "    }\n",
       "\n",
       "    .dataframe tbody tr th {\n",
       "        vertical-align: top;\n",
       "    }\n",
       "\n",
       "    .dataframe thead th {\n",
       "        text-align: right;\n",
       "    }\n",
       "</style>\n",
       "<table border=\"1\" class=\"dataframe\">\n",
       "  <thead>\n",
       "    <tr style=\"text-align: right;\">\n",
       "      <th></th>\n",
       "      <th>id</th>\n",
       "      <th>rcount</th>\n",
       "      <th>gender</th>\n",
       "      <th>dialysisrenalendstage</th>\n",
       "      <th>asthma</th>\n",
       "      <th>irondef</th>\n",
       "      <th>pneum</th>\n",
       "      <th>substancedependence</th>\n",
       "      <th>psychologicaldisordermajor</th>\n",
       "      <th>depress</th>\n",
       "      <th>...</th>\n",
       "      <th>neutrophils</th>\n",
       "      <th>sodium</th>\n",
       "      <th>glucose</th>\n",
       "      <th>bloodureanitro</th>\n",
       "      <th>creatinine</th>\n",
       "      <th>bmi</th>\n",
       "      <th>pulse</th>\n",
       "      <th>respiration</th>\n",
       "      <th>secondarydiagnosisnonicd9</th>\n",
       "      <th>facid</th>\n",
       "    </tr>\n",
       "  </thead>\n",
       "  <tbody>\n",
       "    <tr>\n",
       "      <th>0</th>\n",
       "      <td>76513</td>\n",
       "      <td>4</td>\n",
       "      <td>1.0</td>\n",
       "      <td>0</td>\n",
       "      <td>0</td>\n",
       "      <td>0</td>\n",
       "      <td>0</td>\n",
       "      <td>0</td>\n",
       "      <td>1</td>\n",
       "      <td>0</td>\n",
       "      <td>...</td>\n",
       "      <td>7.0</td>\n",
       "      <td>137.150067</td>\n",
       "      <td>148.420532</td>\n",
       "      <td>23.0</td>\n",
       "      <td>0.955051</td>\n",
       "      <td>28.450268</td>\n",
       "      <td>63</td>\n",
       "      <td>6.7</td>\n",
       "      <td>1</td>\n",
       "      <td>4</td>\n",
       "    </tr>\n",
       "  </tbody>\n",
       "</table>\n",
       "<p>1 rows × 25 columns</p>\n",
       "</div>"
      ],
      "text/plain": [
       "      id  rcount  gender  dialysisrenalendstage  asthma  irondef  pneum  \\\n",
       "0  76513       4     1.0                      0       0        0      0   \n",
       "\n",
       "   substancedependence  psychologicaldisordermajor  depress  ...  neutrophils  \\\n",
       "0                    0                           1        0  ...          7.0   \n",
       "\n",
       "       sodium     glucose  bloodureanitro  creatinine        bmi  pulse  \\\n",
       "0  137.150067  148.420532            23.0    0.955051  28.450268     63   \n",
       "\n",
       "   respiration  secondarydiagnosisnonicd9  facid  \n",
       "0          6.7                          1      4  \n",
       "\n",
       "[1 rows x 25 columns]"
      ]
     },
     "execution_count": 16,
     "metadata": {},
     "output_type": "execute_result"
    }
   ],
   "source": [
    "X.head(1)"
   ]
  },
  {
   "cell_type": "code",
   "execution_count": 17,
   "id": "dde26db0",
   "metadata": {
    "ExecuteTime": {
     "end_time": "2023-09-22T16:57:55.852941700Z",
     "start_time": "2023-09-22T16:57:55.849347900Z"
    }
   },
   "outputs": [],
   "source": [
    "y = training_data['lengthofstay']"
   ]
  },
  {
   "cell_type": "code",
   "execution_count": 18,
   "id": "600c7202",
   "metadata": {
    "ExecuteTime": {
     "end_time": "2023-09-22T16:57:56.209382300Z",
     "start_time": "2023-09-22T16:57:56.197903500Z"
    }
   },
   "outputs": [],
   "source": [
    "from sklearn.model_selection import train_test_split"
   ]
  },
  {
   "cell_type": "code",
   "execution_count": 19,
   "id": "cf40a7b9",
   "metadata": {},
   "outputs": [
    {
     "data": {
      "text/html": [
       "<div>\n",
       "<style scoped>\n",
       "    .dataframe tbody tr th:only-of-type {\n",
       "        vertical-align: middle;\n",
       "    }\n",
       "\n",
       "    .dataframe tbody tr th {\n",
       "        vertical-align: top;\n",
       "    }\n",
       "\n",
       "    .dataframe thead th {\n",
       "        text-align: right;\n",
       "    }\n",
       "</style>\n",
       "<table border=\"1\" class=\"dataframe\">\n",
       "  <thead>\n",
       "    <tr style=\"text-align: right;\">\n",
       "      <th></th>\n",
       "      <th>id</th>\n",
       "      <th>rcount</th>\n",
       "      <th>gender</th>\n",
       "      <th>dialysisrenalendstage</th>\n",
       "      <th>asthma</th>\n",
       "      <th>irondef</th>\n",
       "      <th>pneum</th>\n",
       "      <th>substancedependence</th>\n",
       "      <th>psychologicaldisordermajor</th>\n",
       "      <th>depress</th>\n",
       "      <th>...</th>\n",
       "      <th>neutrophils</th>\n",
       "      <th>sodium</th>\n",
       "      <th>glucose</th>\n",
       "      <th>bloodureanitro</th>\n",
       "      <th>creatinine</th>\n",
       "      <th>bmi</th>\n",
       "      <th>pulse</th>\n",
       "      <th>respiration</th>\n",
       "      <th>secondarydiagnosisnonicd9</th>\n",
       "      <th>facid</th>\n",
       "    </tr>\n",
       "  </thead>\n",
       "  <tbody>\n",
       "    <tr>\n",
       "      <th>0</th>\n",
       "      <td>76513</td>\n",
       "      <td>4</td>\n",
       "      <td>1.0</td>\n",
       "      <td>0</td>\n",
       "      <td>0</td>\n",
       "      <td>0</td>\n",
       "      <td>0</td>\n",
       "      <td>0</td>\n",
       "      <td>1</td>\n",
       "      <td>0</td>\n",
       "      <td>...</td>\n",
       "      <td>7.0</td>\n",
       "      <td>137.150067</td>\n",
       "      <td>148.420532</td>\n",
       "      <td>23.0</td>\n",
       "      <td>0.955051</td>\n",
       "      <td>28.450268</td>\n",
       "      <td>63</td>\n",
       "      <td>6.7</td>\n",
       "      <td>1</td>\n",
       "      <td>4</td>\n",
       "    </tr>\n",
       "    <tr>\n",
       "      <th>1</th>\n",
       "      <td>60406</td>\n",
       "      <td>1</td>\n",
       "      <td>1.0</td>\n",
       "      <td>0</td>\n",
       "      <td>0</td>\n",
       "      <td>0</td>\n",
       "      <td>0</td>\n",
       "      <td>0</td>\n",
       "      <td>0</td>\n",
       "      <td>0</td>\n",
       "      <td>...</td>\n",
       "      <td>7.1</td>\n",
       "      <td>140.643655</td>\n",
       "      <td>166.718526</td>\n",
       "      <td>9.0</td>\n",
       "      <td>1.385747</td>\n",
       "      <td>29.233048</td>\n",
       "      <td>81</td>\n",
       "      <td>6.5</td>\n",
       "      <td>0</td>\n",
       "      <td>1</td>\n",
       "    </tr>\n",
       "    <tr>\n",
       "      <th>2</th>\n",
       "      <td>27322</td>\n",
       "      <td>1</td>\n",
       "      <td>0.0</td>\n",
       "      <td>0</td>\n",
       "      <td>0</td>\n",
       "      <td>0</td>\n",
       "      <td>0</td>\n",
       "      <td>0</td>\n",
       "      <td>0</td>\n",
       "      <td>0</td>\n",
       "      <td>...</td>\n",
       "      <td>12.6</td>\n",
       "      <td>138.459305</td>\n",
       "      <td>106.468142</td>\n",
       "      <td>12.0</td>\n",
       "      <td>0.816984</td>\n",
       "      <td>34.295535</td>\n",
       "      <td>75</td>\n",
       "      <td>6.5</td>\n",
       "      <td>1</td>\n",
       "      <td>1</td>\n",
       "    </tr>\n",
       "  </tbody>\n",
       "</table>\n",
       "<p>3 rows × 25 columns</p>\n",
       "</div>"
      ],
      "text/plain": [
       "      id  rcount  gender  dialysisrenalendstage  asthma  irondef  pneum  \\\n",
       "0  76513       4     1.0                      0       0        0      0   \n",
       "1  60406       1     1.0                      0       0        0      0   \n",
       "2  27322       1     0.0                      0       0        0      0   \n",
       "\n",
       "   substancedependence  psychologicaldisordermajor  depress  ...  neutrophils  \\\n",
       "0                    0                           1        0  ...          7.0   \n",
       "1                    0                           0        0  ...          7.1   \n",
       "2                    0                           0        0  ...         12.6   \n",
       "\n",
       "       sodium     glucose  bloodureanitro  creatinine        bmi  pulse  \\\n",
       "0  137.150067  148.420532            23.0    0.955051  28.450268     63   \n",
       "1  140.643655  166.718526             9.0    1.385747  29.233048     81   \n",
       "2  138.459305  106.468142            12.0    0.816984  34.295535     75   \n",
       "\n",
       "   respiration  secondarydiagnosisnonicd9  facid  \n",
       "0          6.7                          1      4  \n",
       "1          6.5                          0      1  \n",
       "2          6.5                          1      1  \n",
       "\n",
       "[3 rows x 25 columns]"
      ]
     },
     "execution_count": 19,
     "metadata": {},
     "output_type": "execute_result"
    }
   ],
   "source": [
    "X.head(3)"
   ]
  },
  {
   "cell_type": "code",
   "execution_count": 20,
   "id": "f056d65c",
   "metadata": {
    "ExecuteTime": {
     "end_time": "2023-09-22T16:57:57.036369500Z",
     "start_time": "2023-09-22T16:57:57.012246100Z"
    }
   },
   "outputs": [],
   "source": [
    "X_train, X_test, y_train, y_test = train_test_split(X, y, random_state=42)"
   ]
  },
  {
   "cell_type": "code",
   "execution_count": 21,
   "id": "b3957320",
   "metadata": {
    "ExecuteTime": {
     "end_time": "2023-09-22T16:57:58.854251500Z",
     "start_time": "2023-09-22T16:57:58.844768900Z"
    }
   },
   "outputs": [
    {
     "name": "stdout",
     "output_type": "stream",
     "text": [
      "Training data: (52500, 25)\n",
      "Test data: (17500, 25)\n"
     ]
    }
   ],
   "source": [
    "print(f'Training data: {X_train.shape}\\nTest data: {X_test.shape}')"
   ]
  },
  {
   "cell_type": "code",
   "execution_count": 22,
   "id": "f2f64af2",
   "metadata": {
    "ExecuteTime": {
     "end_time": "2023-09-22T16:57:59.485643500Z",
     "start_time": "2023-09-22T16:57:59.473164100Z"
    }
   },
   "outputs": [],
   "source": [
    "from sklearn.ensemble import RandomForestClassifier"
   ]
  },
  {
   "cell_type": "code",
   "execution_count": 23,
   "id": "ef27601a",
   "metadata": {
    "ExecuteTime": {
     "end_time": "2023-09-22T17:01:40.239008400Z",
     "start_time": "2023-09-22T17:01:40.226621600Z"
    }
   },
   "outputs": [],
   "source": [
    "rf = RandomForestClassifier(random_state= 42, n_estimators=100)"
   ]
  },
  {
   "cell_type": "code",
   "execution_count": 24,
   "id": "3f6d396e",
   "metadata": {
    "ExecuteTime": {
     "end_time": "2023-09-22T17:02:12.049013700Z",
     "start_time": "2023-09-22T17:01:40.649134300Z"
    }
   },
   "outputs": [
    {
     "data": {
      "text/html": [
       "<style>#sk-container-id-1 {color: black;}#sk-container-id-1 pre{padding: 0;}#sk-container-id-1 div.sk-toggleable {background-color: white;}#sk-container-id-1 label.sk-toggleable__label {cursor: pointer;display: block;width: 100%;margin-bottom: 0;padding: 0.3em;box-sizing: border-box;text-align: center;}#sk-container-id-1 label.sk-toggleable__label-arrow:before {content: \"▸\";float: left;margin-right: 0.25em;color: #696969;}#sk-container-id-1 label.sk-toggleable__label-arrow:hover:before {color: black;}#sk-container-id-1 div.sk-estimator:hover label.sk-toggleable__label-arrow:before {color: black;}#sk-container-id-1 div.sk-toggleable__content {max-height: 0;max-width: 0;overflow: hidden;text-align: left;background-color: #f0f8ff;}#sk-container-id-1 div.sk-toggleable__content pre {margin: 0.2em;color: black;border-radius: 0.25em;background-color: #f0f8ff;}#sk-container-id-1 input.sk-toggleable__control:checked~div.sk-toggleable__content {max-height: 200px;max-width: 100%;overflow: auto;}#sk-container-id-1 input.sk-toggleable__control:checked~label.sk-toggleable__label-arrow:before {content: \"▾\";}#sk-container-id-1 div.sk-estimator input.sk-toggleable__control:checked~label.sk-toggleable__label {background-color: #d4ebff;}#sk-container-id-1 div.sk-label input.sk-toggleable__control:checked~label.sk-toggleable__label {background-color: #d4ebff;}#sk-container-id-1 input.sk-hidden--visually {border: 0;clip: rect(1px 1px 1px 1px);clip: rect(1px, 1px, 1px, 1px);height: 1px;margin: -1px;overflow: hidden;padding: 0;position: absolute;width: 1px;}#sk-container-id-1 div.sk-estimator {font-family: monospace;background-color: #f0f8ff;border: 1px dotted black;border-radius: 0.25em;box-sizing: border-box;margin-bottom: 0.5em;}#sk-container-id-1 div.sk-estimator:hover {background-color: #d4ebff;}#sk-container-id-1 div.sk-parallel-item::after {content: \"\";width: 100%;border-bottom: 1px solid gray;flex-grow: 1;}#sk-container-id-1 div.sk-label:hover label.sk-toggleable__label {background-color: #d4ebff;}#sk-container-id-1 div.sk-serial::before {content: \"\";position: absolute;border-left: 1px solid gray;box-sizing: border-box;top: 0;bottom: 0;left: 50%;z-index: 0;}#sk-container-id-1 div.sk-serial {display: flex;flex-direction: column;align-items: center;background-color: white;padding-right: 0.2em;padding-left: 0.2em;position: relative;}#sk-container-id-1 div.sk-item {position: relative;z-index: 1;}#sk-container-id-1 div.sk-parallel {display: flex;align-items: stretch;justify-content: center;background-color: white;position: relative;}#sk-container-id-1 div.sk-item::before, #sk-container-id-1 div.sk-parallel-item::before {content: \"\";position: absolute;border-left: 1px solid gray;box-sizing: border-box;top: 0;bottom: 0;left: 50%;z-index: -1;}#sk-container-id-1 div.sk-parallel-item {display: flex;flex-direction: column;z-index: 1;position: relative;background-color: white;}#sk-container-id-1 div.sk-parallel-item:first-child::after {align-self: flex-end;width: 50%;}#sk-container-id-1 div.sk-parallel-item:last-child::after {align-self: flex-start;width: 50%;}#sk-container-id-1 div.sk-parallel-item:only-child::after {width: 0;}#sk-container-id-1 div.sk-dashed-wrapped {border: 1px dashed gray;margin: 0 0.4em 0.5em 0.4em;box-sizing: border-box;padding-bottom: 0.4em;background-color: white;}#sk-container-id-1 div.sk-label label {font-family: monospace;font-weight: bold;display: inline-block;line-height: 1.2em;}#sk-container-id-1 div.sk-label-container {text-align: center;}#sk-container-id-1 div.sk-container {/* jupyter's `normalize.less` sets `[hidden] { display: none; }` but bootstrap.min.css set `[hidden] { display: none !important; }` so we also need the `!important` here to be able to override the default hidden behavior on the sphinx rendered scikit-learn.org. See: https://github.com/scikit-learn/scikit-learn/issues/21755 */display: inline-block !important;position: relative;}#sk-container-id-1 div.sk-text-repr-fallback {display: none;}</style><div id=\"sk-container-id-1\" class=\"sk-top-container\"><div class=\"sk-text-repr-fallback\"><pre>RandomForestClassifier(random_state=42)</pre><b>In a Jupyter environment, please rerun this cell to show the HTML representation or trust the notebook. <br />On GitHub, the HTML representation is unable to render, please try loading this page with nbviewer.org.</b></div><div class=\"sk-container\" hidden><div class=\"sk-item\"><div class=\"sk-estimator sk-toggleable\"><input class=\"sk-toggleable__control sk-hidden--visually\" id=\"sk-estimator-id-1\" type=\"checkbox\" checked><label for=\"sk-estimator-id-1\" class=\"sk-toggleable__label sk-toggleable__label-arrow\">RandomForestClassifier</label><div class=\"sk-toggleable__content\"><pre>RandomForestClassifier(random_state=42)</pre></div></div></div></div></div>"
      ],
      "text/plain": [
       "RandomForestClassifier(random_state=42)"
      ]
     },
     "execution_count": 24,
     "metadata": {},
     "output_type": "execute_result"
    }
   ],
   "source": [
    "rf.fit(X_train, y_train)"
   ]
  },
  {
   "cell_type": "code",
   "execution_count": 25,
   "id": "a065c12f",
   "metadata": {
    "ExecuteTime": {
     "end_time": "2023-09-22T17:02:12.760522900Z",
     "start_time": "2023-09-22T17:02:12.050002700Z"
    }
   },
   "outputs": [],
   "source": [
    "y_pred = rf.predict(X_test)"
   ]
  },
  {
   "cell_type": "code",
   "execution_count": 26,
   "id": "2fef7e40",
   "metadata": {
    "ExecuteTime": {
     "end_time": "2023-09-22T17:02:12.764052700Z",
     "start_time": "2023-09-22T17:02:12.762509300Z"
    }
   },
   "outputs": [],
   "source": [
    "from sklearn.metrics import accuracy_score"
   ]
  },
  {
   "cell_type": "code",
   "execution_count": 27,
   "id": "3bb60beb",
   "metadata": {
    "ExecuteTime": {
     "end_time": "2023-09-22T17:02:12.774847Z",
     "start_time": "2023-09-22T17:02:12.766048200Z"
    }
   },
   "outputs": [
    {
     "data": {
      "text/plain": [
       "0.6317142857142857"
      ]
     },
     "execution_count": 27,
     "metadata": {},
     "output_type": "execute_result"
    }
   ],
   "source": [
    "accuracy_score(y_test, y_pred)"
   ]
  },
  {
   "cell_type": "code",
   "execution_count": 28,
   "id": "00a063a7",
   "metadata": {
    "ExecuteTime": {
     "end_time": "2023-09-22T17:02:12.808248400Z",
     "start_time": "2023-09-22T17:02:12.774847Z"
    }
   },
   "outputs": [],
   "source": [
    "txt = '''importances = rf.feature_importances_\n",
    "cols = X.columns\n",
    "cols = list(cols)\n",
    "\n",
    "# Create a list of tuples (importance, column name)\n",
    "importance_list = list(zip(importances, cols))\n",
    "\n",
    "# Sort the list by importance (in descending order)\n",
    "importance_list.sort()\n",
    "\n",
    "# Print the sorted list\n",
    "for importance, col in importance_list:\n",
    "    print(f'{col: <27}: {importance:.4f}')'''"
   ]
  },
  {
   "cell_type": "code",
   "execution_count": 29,
   "id": "38bc8a90",
   "metadata": {},
   "outputs": [
    {
     "data": {
      "text/html": [
       "<div>\n",
       "<style scoped>\n",
       "    .dataframe tbody tr th:only-of-type {\n",
       "        vertical-align: middle;\n",
       "    }\n",
       "\n",
       "    .dataframe tbody tr th {\n",
       "        vertical-align: top;\n",
       "    }\n",
       "\n",
       "    .dataframe thead th {\n",
       "        text-align: right;\n",
       "    }\n",
       "</style>\n",
       "<table border=\"1\" class=\"dataframe\">\n",
       "  <thead>\n",
       "    <tr style=\"text-align: right;\">\n",
       "      <th></th>\n",
       "      <th>id</th>\n",
       "      <th>rcount</th>\n",
       "      <th>gender</th>\n",
       "      <th>dialysisrenalendstage</th>\n",
       "      <th>asthma</th>\n",
       "      <th>irondef</th>\n",
       "      <th>pneum</th>\n",
       "      <th>substancedependence</th>\n",
       "      <th>psychologicaldisordermajor</th>\n",
       "      <th>depress</th>\n",
       "      <th>...</th>\n",
       "      <th>neutrophils</th>\n",
       "      <th>sodium</th>\n",
       "      <th>glucose</th>\n",
       "      <th>bloodureanitro</th>\n",
       "      <th>creatinine</th>\n",
       "      <th>bmi</th>\n",
       "      <th>pulse</th>\n",
       "      <th>respiration</th>\n",
       "      <th>secondarydiagnosisnonicd9</th>\n",
       "      <th>facid</th>\n",
       "    </tr>\n",
       "  </thead>\n",
       "  <tbody>\n",
       "    <tr>\n",
       "      <th>0</th>\n",
       "      <td>76513</td>\n",
       "      <td>4</td>\n",
       "      <td>1.0</td>\n",
       "      <td>0</td>\n",
       "      <td>0</td>\n",
       "      <td>0</td>\n",
       "      <td>0</td>\n",
       "      <td>0</td>\n",
       "      <td>1</td>\n",
       "      <td>0</td>\n",
       "      <td>...</td>\n",
       "      <td>7.0</td>\n",
       "      <td>137.150067</td>\n",
       "      <td>148.420532</td>\n",
       "      <td>23.0</td>\n",
       "      <td>0.955051</td>\n",
       "      <td>28.450268</td>\n",
       "      <td>63</td>\n",
       "      <td>6.7</td>\n",
       "      <td>1</td>\n",
       "      <td>4</td>\n",
       "    </tr>\n",
       "    <tr>\n",
       "      <th>1</th>\n",
       "      <td>60406</td>\n",
       "      <td>1</td>\n",
       "      <td>1.0</td>\n",
       "      <td>0</td>\n",
       "      <td>0</td>\n",
       "      <td>0</td>\n",
       "      <td>0</td>\n",
       "      <td>0</td>\n",
       "      <td>0</td>\n",
       "      <td>0</td>\n",
       "      <td>...</td>\n",
       "      <td>7.1</td>\n",
       "      <td>140.643655</td>\n",
       "      <td>166.718526</td>\n",
       "      <td>9.0</td>\n",
       "      <td>1.385747</td>\n",
       "      <td>29.233048</td>\n",
       "      <td>81</td>\n",
       "      <td>6.5</td>\n",
       "      <td>0</td>\n",
       "      <td>1</td>\n",
       "    </tr>\n",
       "    <tr>\n",
       "      <th>2</th>\n",
       "      <td>27322</td>\n",
       "      <td>1</td>\n",
       "      <td>0.0</td>\n",
       "      <td>0</td>\n",
       "      <td>0</td>\n",
       "      <td>0</td>\n",
       "      <td>0</td>\n",
       "      <td>0</td>\n",
       "      <td>0</td>\n",
       "      <td>0</td>\n",
       "      <td>...</td>\n",
       "      <td>12.6</td>\n",
       "      <td>138.459305</td>\n",
       "      <td>106.468142</td>\n",
       "      <td>12.0</td>\n",
       "      <td>0.816984</td>\n",
       "      <td>34.295535</td>\n",
       "      <td>75</td>\n",
       "      <td>6.5</td>\n",
       "      <td>1</td>\n",
       "      <td>1</td>\n",
       "    </tr>\n",
       "  </tbody>\n",
       "</table>\n",
       "<p>3 rows × 25 columns</p>\n",
       "</div>"
      ],
      "text/plain": [
       "      id  rcount  gender  dialysisrenalendstage  asthma  irondef  pneum  \\\n",
       "0  76513       4     1.0                      0       0        0      0   \n",
       "1  60406       1     1.0                      0       0        0      0   \n",
       "2  27322       1     0.0                      0       0        0      0   \n",
       "\n",
       "   substancedependence  psychologicaldisordermajor  depress  ...  neutrophils  \\\n",
       "0                    0                           1        0  ...          7.0   \n",
       "1                    0                           0        0  ...          7.1   \n",
       "2                    0                           0        0  ...         12.6   \n",
       "\n",
       "       sodium     glucose  bloodureanitro  creatinine        bmi  pulse  \\\n",
       "0  137.150067  148.420532            23.0    0.955051  28.450268     63   \n",
       "1  140.643655  166.718526             9.0    1.385747  29.233048     81   \n",
       "2  138.459305  106.468142            12.0    0.816984  34.295535     75   \n",
       "\n",
       "   respiration  secondarydiagnosisnonicd9  facid  \n",
       "0          6.7                          1      4  \n",
       "1          6.5                          0      1  \n",
       "2          6.5                          1      1  \n",
       "\n",
       "[3 rows x 25 columns]"
      ]
     },
     "execution_count": 29,
     "metadata": {},
     "output_type": "execute_result"
    }
   ],
   "source": [
    "X.head(3)"
   ]
  },
  {
   "cell_type": "code",
   "execution_count": 30,
   "id": "a7bb6a70",
   "metadata": {},
   "outputs": [
    {
     "name": "stdout",
     "output_type": "stream",
     "text": [
      "rcount                     : 0.2070\n",
      "bmi                        : 0.0777\n",
      "glucose                    : 0.0774\n",
      "creatinine                 : 0.0772\n",
      "sodium                     : 0.0768\n",
      "pulse                      : 0.0699\n",
      "hematocrit                 : 0.0668\n",
      "neutrophils                : 0.0580\n",
      "id                         : 0.0526\n",
      "facid                      : 0.0461\n",
      "respiration                : 0.0427\n",
      "bloodureanitro             : 0.0394\n",
      "secondarydiagnosisnonicd9  : 0.0270\n",
      "psychologicaldisordermajor : 0.0183\n",
      "hemo                       : 0.0135\n",
      "gender                     : 0.0100\n",
      "irondef                    : 0.0070\n",
      "substancedependence        : 0.0064\n",
      "dialysisrenalendstage      : 0.0053\n",
      "depress                    : 0.0050\n",
      "asthma                     : 0.0043\n",
      "pneum                      : 0.0040\n",
      "malnutrition               : 0.0037\n",
      "psychother                 : 0.0033\n",
      "fibrosisandother           : 0.0007\n"
     ]
    }
   ],
   "source": [
    "importances = rf.feature_importances_\n",
    "cols = X.columns\n",
    "\n",
    "# Create a list of tuples (importance, column name)\n",
    "importance_list = list(zip(importances, cols))\n",
    "\n",
    "# Sort the list by importance (in descending order)\n",
    "importance_list.sort(reverse=True)\n",
    "\n",
    "# Print the sorted list\n",
    "for importance, col in importance_list:\n",
    "    print(f'{col: <27}: {importance:.4f}')"
   ]
  },
  {
   "cell_type": "code",
   "execution_count": 31,
   "id": "7bd0dde4",
   "metadata": {},
   "outputs": [
    {
     "data": {
      "text/html": [
       "<div>\n",
       "<style scoped>\n",
       "    .dataframe tbody tr th:only-of-type {\n",
       "        vertical-align: middle;\n",
       "    }\n",
       "\n",
       "    .dataframe tbody tr th {\n",
       "        vertical-align: top;\n",
       "    }\n",
       "\n",
       "    .dataframe thead th {\n",
       "        text-align: right;\n",
       "    }\n",
       "</style>\n",
       "<table border=\"1\" class=\"dataframe\">\n",
       "  <thead>\n",
       "    <tr style=\"text-align: right;\">\n",
       "      <th></th>\n",
       "      <th>id</th>\n",
       "      <th>rcount</th>\n",
       "      <th>gender</th>\n",
       "      <th>dialysisrenalendstage</th>\n",
       "      <th>asthma</th>\n",
       "      <th>irondef</th>\n",
       "      <th>pneum</th>\n",
       "      <th>substancedependence</th>\n",
       "      <th>psychologicaldisordermajor</th>\n",
       "      <th>depress</th>\n",
       "      <th>...</th>\n",
       "      <th>neutrophils</th>\n",
       "      <th>sodium</th>\n",
       "      <th>glucose</th>\n",
       "      <th>bloodureanitro</th>\n",
       "      <th>creatinine</th>\n",
       "      <th>bmi</th>\n",
       "      <th>pulse</th>\n",
       "      <th>respiration</th>\n",
       "      <th>secondarydiagnosisnonicd9</th>\n",
       "      <th>facid</th>\n",
       "    </tr>\n",
       "  </thead>\n",
       "  <tbody>\n",
       "    <tr>\n",
       "      <th>58774</th>\n",
       "      <td>73745</td>\n",
       "      <td>1</td>\n",
       "      <td>0.0</td>\n",
       "      <td>0</td>\n",
       "      <td>0</td>\n",
       "      <td>0</td>\n",
       "      <td>0</td>\n",
       "      <td>0</td>\n",
       "      <td>0</td>\n",
       "      <td>0</td>\n",
       "      <td>...</td>\n",
       "      <td>10.85</td>\n",
       "      <td>132.9162</td>\n",
       "      <td>158.236482</td>\n",
       "      <td>12.0</td>\n",
       "      <td>1.071901</td>\n",
       "      <td>29.798116</td>\n",
       "      <td>74</td>\n",
       "      <td>6.5</td>\n",
       "      <td>1</td>\n",
       "      <td>0</td>\n",
       "    </tr>\n",
       "  </tbody>\n",
       "</table>\n",
       "<p>1 rows × 25 columns</p>\n",
       "</div>"
      ],
      "text/plain": [
       "          id  rcount  gender  dialysisrenalendstage  asthma  irondef  pneum  \\\n",
       "58774  73745       1     0.0                      0       0        0      0   \n",
       "\n",
       "       substancedependence  psychologicaldisordermajor  depress  ...  \\\n",
       "58774                    0                           0        0  ...   \n",
       "\n",
       "       neutrophils    sodium     glucose  bloodureanitro  creatinine  \\\n",
       "58774        10.85  132.9162  158.236482            12.0    1.071901   \n",
       "\n",
       "             bmi  pulse  respiration  secondarydiagnosisnonicd9  facid  \n",
       "58774  29.798116     74          6.5                          1      0  \n",
       "\n",
       "[1 rows x 25 columns]"
      ]
     },
     "execution_count": 31,
     "metadata": {},
     "output_type": "execute_result"
    }
   ],
   "source": [
    "X_train.head(1)"
   ]
  },
  {
   "cell_type": "code",
   "execution_count": 32,
   "id": "9dd3bf6a",
   "metadata": {},
   "outputs": [],
   "source": [
    "def predict_lengthofstay(gender, bmi, rcount, glucose, creatinine):\n",
    "    \n",
    "    input_data = pd.DataFrame({\n",
    "        'id': [X['id'].mean()],\n",
    "        #'rcount': [X['rcount'].mean()],\n",
    "        'rcount': [rcont],\n",
    "        'gender': [gender], \n",
    "        'dialysisrenalendstage': [X['dialysisrenalendstage'].mean()],\n",
    "        'asthma': [X['asthma'].mean()],\n",
    "        'irondef': [X['irondef'].mean()],\n",
    "        'pneum': [X['pneum'].mean()],\n",
    "        'substancedependence': [X['substancedependence'].mean()],\n",
    "        'psychologicaldisordermajor': [X['psychologicaldisordermajor'].mean()],\n",
    "        'depress': [X['depress'].mean()],\n",
    "        'psychother': [X['psychother'].mean()],\n",
    "        'fibrosisandother': [X['fibrosisandother'].mean()],\n",
    "        'malnutrition': [X['malnutrition'].mean()],\n",
    "        'hemo': [X['hemo'].mean()],\n",
    "        'hematocrit': [X['hematocrit'].mean()],\n",
    "        'neutrophils': [X['neutrophils'].mean()],\n",
    "        'sodium': [X['sodium'].mean()],\n",
    "        #'glucose': [X['glucose'].mean()],\n",
    "        'glucose': [glucose],\n",
    "        'bloodureanitro': [X['bloodureanitro'].mean()],\n",
    "        #'creatinine': [X['creatinine'].mean()],\n",
    "        'creatinine': [creatinine],\n",
    "        'bmi': [bmi],  # Replace with the actual bmi value\n",
    "        'pulse': [X['pulse'].mean()],\n",
    "        'respiration': [X['respiration'].mean()],\n",
    "        'secondarydiagnosisnonicd9': [X['secondarydiagnosisnonicd9'].mean()],\n",
    "        'facid': [X['facid'].mean()]\n",
    "    })\n",
    "    \n",
    "    prediction = rf.predict(input_data)\n",
    "\n",
    "\n",
    "    \n",
    "    # Return the result\n",
    "    return prediction[0]"
   ]
  },
  {
   "cell_type": "code",
   "execution_count": 33,
   "id": "5273af35",
   "metadata": {},
   "outputs": [
    {
     "data": {
      "text/plain": [
       "7"
      ]
     },
     "execution_count": 33,
     "metadata": {},
     "output_type": "execute_result"
    }
   ],
   "source": [
    "gender = 1\n",
    "bmi =  34\n",
    "rcont = 5\n",
    "glucose = 268\n",
    "creatinine = 2\n",
    "    \n",
    "predict_lengthofstay(gender, bmi, rcont, glucose, creatinine)"
   ]
  },
  {
   "cell_type": "code",
   "execution_count": 34,
   "id": "853092d6",
   "metadata": {},
   "outputs": [],
   "source": [
    "if (colab or kaggle):\n",
    "    %pip install gradio"
   ]
  },
  {
   "cell_type": "code",
   "execution_count": 35,
   "id": "2bee1422",
   "metadata": {},
   "outputs": [],
   "source": [
    "import gradio as gr"
   ]
  },
  {
   "cell_type": "code",
   "execution_count": 36,
   "id": "6c704385",
   "metadata": {},
   "outputs": [],
   "source": [
    "# Set the minimum, maximum, and default values for the variables\n",
    "gender_min, gender_max, gender_default = 0, 1, 1\n",
    "bmi_min, bmi_max, bmi_default = 15, 39, 34\n",
    "rcount_min, rcount_max, rcount_default = 0, 5, 3\n",
    "glucose_min, glucose_max, glucose_default = 0, 268, 200\n",
    "creatinine_min, creatinine_max, creatinine_default = 0, 3, 1\n",
    "\n",
    "\n"
   ]
  },
  {
   "cell_type": "code",
   "execution_count": 37,
   "id": "4f5c805e",
   "metadata": {
    "scrolled": false
   },
   "outputs": [
    {
     "name": "stdout",
     "output_type": "stream",
     "text": [
      "Running on local URL:  http://127.0.0.1:7862\n",
      "Running on public URL: https://a45c33118831d1bbf7.gradio.live\n",
      "\n",
      "This share link expires in 72 hours. For free permanent hosting and GPU upgrades, run `gradio deploy` from Terminal to deploy to Spaces (https://huggingface.co/spaces)\n"
     ]
    },
    {
     "data": {
      "text/html": [
       "<div><iframe src=\"https://a45c33118831d1bbf7.gradio.live\" width=\"100%\" height=\"500\" allow=\"autoplay; camera; microphone; clipboard-read; clipboard-write;\" frameborder=\"0\" allowfullscreen></iframe></div>"
      ],
      "text/plain": [
       "<IPython.core.display.HTML object>"
      ]
     },
     "metadata": {},
     "output_type": "display_data"
    },
    {
     "data": {
      "text/plain": []
     },
     "execution_count": 37,
     "metadata": {},
     "output_type": "execute_result"
    }
   ],
   "source": [
    "# Set the minimum, maximum, and default values for the variables\n",
    "gender_min, gender_max, gender_default = 0, 1, 1\n",
    "bmi_min, bmi_max, bmi_default = 15, 39, 34\n",
    "rcount_min, rcount_max, rcount_default = 0, 5, 3\n",
    "glucose_min, glucose_max, glucose_default = 0, 268, 200\n",
    "creatinine_min, creatinine_max, creatinine_default = 0, 2, 1\n",
    "\n",
    "# Create the interface\n",
    "iface = gr.Interface(\n",
    "    fn=predict_lengthofstay, \n",
    "    inputs=[\n",
    "        gr.components.Slider(minimum=gender_min, maximum=gender_max, value=gender_default, label=\"Gender\", step=1),\n",
    "        gr.components.Slider(minimum=bmi_min, maximum=bmi_max, value=bmi_default, label=\"BMI\"),\n",
    "        gr.components.Slider(minimum=rcount_min, maximum=rcount_max, value=rcount_default, label=\"Rcount\",step=1),\n",
    "        gr.components.Slider(minimum=glucose_min, maximum=glucose_max, value=glucose_default, label=\"Glucose Level\"),\n",
    "        gr.components.Slider(minimum=creatinine_min, maximum=creatinine_max, value=creatinine_default, label=\"Creatinine\")\n",
    "    ], \n",
    "    outputs=gr.components.Textbox(label=\"Prediction\"),\n",
    "    title=\"Length of Stay Predictor\",\n",
    "    description=\"Enter the values to predict the length of stay.\",\n",
    ")\n",
    "\n",
    "# Launch the interface\n",
    "iface.launch(share=True)"
   ]
  },
  {
   "cell_type": "code",
   "execution_count": 38,
   "id": "baa08acd",
   "metadata": {},
   "outputs": [],
   "source": [
    "test_pred = rf.predict(test_data)"
   ]
  },
  {
   "cell_type": "code",
   "execution_count": 39,
   "id": "66fe8413",
   "metadata": {},
   "outputs": [],
   "source": [
    "submission_df = pd.DataFrame({\n",
    "    \"id\": test_data[\"id\"].astype(int),\n",
    "    \"lengthofstay\": test_pred.astype(int)\n",
    "})"
   ]
  },
  {
   "cell_type": "code",
   "execution_count": 40,
   "id": "888930f7",
   "metadata": {},
   "outputs": [
    {
     "data": {
      "text/plain": [
       "(30000, 2)"
      ]
     },
     "execution_count": 40,
     "metadata": {},
     "output_type": "execute_result"
    }
   ],
   "source": [
    "submission_df.shape"
   ]
  },
  {
   "cell_type": "code",
   "execution_count": 41,
   "id": "e65b60a1",
   "metadata": {},
   "outputs": [
    {
     "data": {
      "text/html": [
       "<div>\n",
       "<style scoped>\n",
       "    .dataframe tbody tr th:only-of-type {\n",
       "        vertical-align: middle;\n",
       "    }\n",
       "\n",
       "    .dataframe tbody tr th {\n",
       "        vertical-align: top;\n",
       "    }\n",
       "\n",
       "    .dataframe thead th {\n",
       "        text-align: right;\n",
       "    }\n",
       "</style>\n",
       "<table border=\"1\" class=\"dataframe\">\n",
       "  <thead>\n",
       "    <tr style=\"text-align: right;\">\n",
       "      <th></th>\n",
       "      <th>id</th>\n",
       "      <th>lengthofstay</th>\n",
       "    </tr>\n",
       "  </thead>\n",
       "  <tbody>\n",
       "    <tr>\n",
       "      <th>0</th>\n",
       "      <td>75721</td>\n",
       "      <td>2</td>\n",
       "    </tr>\n",
       "    <tr>\n",
       "      <th>1</th>\n",
       "      <td>80184</td>\n",
       "      <td>2</td>\n",
       "    </tr>\n",
       "    <tr>\n",
       "      <th>2</th>\n",
       "      <td>19864</td>\n",
       "      <td>7</td>\n",
       "    </tr>\n",
       "    <tr>\n",
       "      <th>3</th>\n",
       "      <td>76699</td>\n",
       "      <td>3</td>\n",
       "    </tr>\n",
       "    <tr>\n",
       "      <th>4</th>\n",
       "      <td>92991</td>\n",
       "      <td>3</td>\n",
       "    </tr>\n",
       "    <tr>\n",
       "      <th>...</th>\n",
       "      <td>...</td>\n",
       "      <td>...</td>\n",
       "    </tr>\n",
       "    <tr>\n",
       "      <th>29995</th>\n",
       "      <td>42648</td>\n",
       "      <td>6</td>\n",
       "    </tr>\n",
       "    <tr>\n",
       "      <th>29996</th>\n",
       "      <td>86306</td>\n",
       "      <td>4</td>\n",
       "    </tr>\n",
       "    <tr>\n",
       "      <th>29997</th>\n",
       "      <td>45466</td>\n",
       "      <td>5</td>\n",
       "    </tr>\n",
       "    <tr>\n",
       "      <th>29998</th>\n",
       "      <td>63724</td>\n",
       "      <td>5</td>\n",
       "    </tr>\n",
       "    <tr>\n",
       "      <th>29999</th>\n",
       "      <td>34122</td>\n",
       "      <td>1</td>\n",
       "    </tr>\n",
       "  </tbody>\n",
       "</table>\n",
       "<p>30000 rows × 2 columns</p>\n",
       "</div>"
      ],
      "text/plain": [
       "          id  lengthofstay\n",
       "0      75721             2\n",
       "1      80184             2\n",
       "2      19864             7\n",
       "3      76699             3\n",
       "4      92991             3\n",
       "...      ...           ...\n",
       "29995  42648             6\n",
       "29996  86306             4\n",
       "29997  45466             5\n",
       "29998  63724             5\n",
       "29999  34122             1\n",
       "\n",
       "[30000 rows x 2 columns]"
      ]
     },
     "execution_count": 41,
     "metadata": {},
     "output_type": "execute_result"
    }
   ],
   "source": [
    "file_path = 'submission.csv'\n",
    "\n",
    "# Write the DataFrame to a CSV file\n",
    "submission_df.to_csv(file_path, index=None) \n",
    "pd.read_csv(\"submission.csv\")"
   ]
  },
  {
   "cell_type": "code",
   "execution_count": null,
   "id": "583a2568",
   "metadata": {},
   "outputs": [],
   "source": []
  }
 ],
 "metadata": {
  "kernelspec": {
   "display_name": "Python 3 (ipykernel)",
   "language": "python",
   "name": "python3"
  },
  "language_info": {
   "codemirror_mode": {
    "name": "ipython",
    "version": 3
   },
   "file_extension": ".py",
   "mimetype": "text/x-python",
   "name": "python",
   "nbconvert_exporter": "python",
   "pygments_lexer": "ipython3",
   "version": "3.11.4"
  }
 },
 "nbformat": 4,
 "nbformat_minor": 5
}
